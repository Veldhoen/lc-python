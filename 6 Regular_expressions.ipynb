{
 "cells": [
  {
   "cell_type": "markdown",
   "metadata": {},
   "source": [
    "\n",
    "\n",
    "# 6. Regular Expressions\n",
    "\n",
    "\n"
   ]
  },
  {
   "cell_type": "markdown",
   "metadata": {},
   "source": [
    "When you do a free text search, this generally means that you want to find all the passages containing occurrences of a given search term. In other words, you test whether the exact character sequence that makes up the search term is contained within the text you analyse. Such text searches based on exact terms can be helpful if you want to find fragments containing a specific word. They are not so helpful if you want to retrieve specific categories of information. If you want to extract all the recent years that are mentioned in a text, for example, it would clearly be impractical to supply all possible options. In this situation, you know that you need to extract sequences of four digits. Similarly, if you want to extract all the email addresses that are mentioned within a text, you don’t know the exact characters that make up these email addresses beforehand, but you do know that you need to find strings that contain the ‘at’ symbol ('@') and a period ('.'). In situations such as these, it can be very useful to search on the basis of regular expressions. \n",
    "\n",
    "Regular expressions can be used to search for specific patterns within texts. When you search using patterns, rather than exact search terms, you can generally search in much more advanced ways. You can search for words with specific types of characters or for words containing a specific number of characters, for instance. Such regular expressions typically consist of a sequence of symbols to define a pattern or a search action. Once defined, such regular expressions can be matched against actual strings.\n",
    "\n",
    "Regular expressions can be constructed using literal characters and so-called metacharacters. Literal characters are simply the characters that are used to compose regular words. The simple regular expression ‘flower’, for instance, only contains literal characters. It can be used to search for the actual six characters that are mentioned. Metacharacters, by contrast, are characters with a special meaning. They represent specific types of characters, such as characters in upper case, digits, spaces or tabs. You can also use metacharacters to specify how many times these characters can appear occur in the pattern. \n",
    "\n",
    "\n",
    "## The `re` module\n",
    "\n",
    "The standard installation of Python includes a useful module called `re`, which can be used to search for text fragments on the basis of regular expressions. To work with the module, you firstly need to import it. "
   ]
  },
  {
   "cell_type": "code",
   "execution_count": null,
   "metadata": {},
   "outputs": [],
   "source": [
    "import re"
   ]
  },
  {
   "cell_type": "markdown",
   "metadata": {},
   "source": [
    "The module re contains a method named `search()`, which minimally requires two parameters. The first parameter is the pattern to search for, and the second parameter is the string in which you want to search. The method returns the value True if the pattern which is mentioned occurs in the string which is provided as the second parameter.\n",
    "\n",
    "The listing below offers an example. The regular expression, in this case, is simply a string consisting of literal characters. The code below tries to establish whether the string that is mentioned as the first parameter of `re.search()` occurs in the sentence which is mentioned as the second parameter."
   ]
  },
  {
   "cell_type": "code",
   "execution_count": null,
   "metadata": {},
   "outputs": [],
   "source": [
    "import re\n",
    "\n",
    "sentence = 'Mrs. Dalloway said she would buy the flowers herself.'\n",
    "\n",
    "if re.search( 'flower' , sentence ):\n",
    "    print('The pattern was found in the sentence!')\n",
    "    "
   ]
  },
  {
   "cell_type": "markdown",
   "metadata": {},
   "source": [
    "## Metacharacters\n",
    "\n",
    "Next to literal characters, you can also work with so-called metacharacters. These are symbols which have specific meanings. You can represent specific categories of characters. \n",
    "You can work with square brackets, firstly, to define your own metacharacters. The list below contains a number of examples. \n",
    "\n",
    "* [sz] matches either one of the characters which are mentioned, namely ‘s’ or ‘z’. Regular expressions are normally lower case. \n",
    "* [SZ] matches these same characters, but in upper case. \n",
    "* [a-z] matches all alphabetical characters in lower case\n",
    "* [A-Z] matches all alphabetical characters in upper case\n",
    "* [A-Za-z] matches any upper or lower case alphabetical character\n",
    "* [0-9] matches any digit.\n",
    "* [A-Za-z0-9] matches any alphanumerical character, in upper and in lower case. \n"
   ]
  },
  {
   "cell_type": "markdown",
   "metadata": {},
   "source": [
    "### Exercise 6.1\n",
    "\n",
    "The list named `words` in the cell below contains a number of spelling variants of the verb 'to digitise'. In some of the variants, the first character is capitalized, while in other variants, all the characters are in lower case. Some variants are in the American spelling and and other variants use the British spelling. Try to write a regular expression which matches all of these variants.  "
   ]
  },
  {
   "cell_type": "code",
   "execution_count": null,
   "metadata": {},
   "outputs": [],
   "source": [
    "\n",
    "words = ['digitise' , 'Digitise' , 'digitize', 'Digitize']\n",
    "\n",
    "## Give the regular expression as value of the regex variable\n",
    "regex = '---'\n",
    "\n",
    "for word in words:\n",
    "    if re.search( regex , word ):\n",
    "        print(f'{word} is matched by the regex {regex}.')\n",
    "    else:\n",
    "        print(f'{word} is NOT matched by the regex {regex}.')"
   ]
  },
  {
   "cell_type": "markdown",
   "metadata": {},
   "source": [
    "\n",
    "## Meta-characters\n",
    "\n",
    "The regular expression language also offers some pre-defined metacharacters. \n",
    "\n",
    "<p>\n",
    "<table width=\"100%; \" style=\"text-align: left; font-size: 1.0em;  \">\n",
    "    <tr style=\"text-align: left; \" >\n",
    "        <td width=\"25%\" style=\"text-align: center; \"><b>Metacharacter</b></td>    \n",
    "<td style=\"text-align: left; padding-right: 40%;\"><b>Description</b></td>    \n",
    "</tr> \n",
    "    <tr style=\"text-align: left; \">\n",
    "    <td width=\"25%\" style=\"text-align: center; \">\\w</td>    \n",
    "<td style=\"text-align: left; \" >Any alphanumeric character: all 26 alphabetical characters or the Latin alphabet, both in upper case and in lower case, all numbers and the underscore.</td>    \n",
    "</tr>\n",
    "      <tr style=\"text-align: left; \">\n",
    "    <td width=\"25%\" style=\"text-align: center; \" >\\d</td>    \n",
    "<td style=\"text-align: left; \" >Digits.</td>    \n",
    "</tr>\n",
    "<tr style=\"text-align: left; \" >\n",
    "    <td width=\"25%\" style=\"text-align: center; \">.</td>    \n",
    "<td style=\"text-align: left; padding-right: 40%;\">Any character, except the newline.</td>    \n",
    "</tr> \n",
    "   <tr style=\"text-align: left; \">\n",
    "    <td width=\"25%\" style=\"text-align: center; \">\\s</td>    \n",
    "<td style=\"text-align: left; \" >White space: the space, a tab or a newline character.</td>    \n",
    "</tr>\n",
    "    \n",
    "</table>\n",
    "  </p>\n",
    "\n",
    "\n",
    "The square brackets can be useful if you need to search for words which can be spelled in different ways. To localize the word ‘digitise’ in a text, for instance, either in its British or in its American spelling, you may use the regular expression `digiti[sz]e`.\n",
    "\n",
    "\n",
    "## Quantifiers\n",
    "\n",
    "You can also use quantifiers to specify the number of times a character or a pattern should occur. \n",
    "\n",
    "\n",
    "<p>\n",
    "<table width=\"100%; \" style=\"text-align: left; font-size: 1.0em; \">\n",
    "    <tr style=\"text-align: left; \" >\n",
    "    <td width=\"15%\" style=\"text-align: center; \"><b>Quantifier</b></td>    \n",
    "<td style=\"text-align: left; padding-right: 40%;\"><b>Description</b></td>    \n",
    "</tr> \n",
    "       <tr style=\"text-align: left; \" >\n",
    "    <td width=\"15%\" style=\"text-align: center; \">{n,m}</td>    \n",
    "<td style=\"text-align: left; padding-right: 40%;\">Pattern must occur a least n times, at most m times</td>    \n",
    "</tr> \n",
    "       <tr style=\"text-align: left; \" >\n",
    "    <td width=\"15%\" style=\"text-align: center; \">{n,}</td>    \n",
    "<td style=\"text-align: left; padding-right: 40%;\">At least n times.</td>    \n",
    "</tr> \n",
    "     <tr style=\"text-align: left; \" >\n",
    "    <td width=\"15%\" style=\"text-align: center; \">{n}</td>    \n",
    "<td style=\"text-align: left; padding-right: 40%;\">Exactly n times.</td>    \n",
    "</tr> \n",
    "       <tr style=\"text-align: left; \" >\n",
    "    <td width=\"15%\" style=\"text-align: center; \">?</td>    \n",
    "<td style=\"text-align: left; padding-right: 40%;\"> Is the same as {0,1}</td>    \n",
    "</tr> \n",
    "       <tr style=\"text-align: left; \" >\n",
    "    <td width=\"15%\" style=\"text-align: center; \">+</td>    \n",
    "<td style=\"text-align: left; padding-right: 40%;\"> Is the same as {1,}</td>    \n",
    "</tr> \n",
    "      <tr style=\"text-align: left; \" >\n",
    "    <td width=\"15%\" style=\"text-align: center; \">*</td>    \n",
    "<td style=\"text-align: left; padding-right: 40%;\">Is the same as {0,}</td>    \n",
    "</tr> \n",
    "    </table></p>\n",
    "\n",
    "\n",
    "When the regular expression contains metacharacters such as `\\w` or `\\d`, you are advised to use the 'r' in front of the string whenever the regular expression. The 'r' in front of a string indicates that the string is in the 'raw' notation. In regular Python strings, the back slash has a specific function. If you place an 'r' in front of the string, you indicate that you want to disable this regular function and that all characters need to be read literally, in their 'raw' form.\n",
    "\n",
    "\n",
    "The combination of metacharacters and quantifiers can result in a very powerful tool to search for patterns in texts. If you want to search for all occurrences to years (after 999) in a text, you can work with the regular expression ‘\\d{4}’. The ‘\\d’ metacharacter represents a digit, and the quantifier {4} specifies that you want to retrieve a sequence of four digits. \n",
    "\n"
   ]
  },
  {
   "cell_type": "markdown",
   "metadata": {},
   "source": [
    "### Exercise 6.2\n",
    "\n",
    "The list of words below contains words which start with 'f' and end in 'l'. In all of these words, there are either two or three other characters in between the first and the final character. Try to write a regular expression which matches all of these words. "
   ]
  },
  {
   "cell_type": "code",
   "execution_count": null,
   "metadata": {},
   "outputs": [],
   "source": [
    "words = ['fail','FOOL','feel', 'fall', 'FOIL', 'fuel', 'Furl' , 'final' , 'focal', 'Frail' , 'FATAL' ]\n",
    "         \n",
    "## Give the regular expression as value of the regex variable\n",
    "regex = '---'\n",
    "\n",
    "for word in words:\n",
    "    if re.search( regex , word ):\n",
    "        print(f'{word} is matched by the regex \"{regex}\".')\n",
    "    else:\n",
    "        print(f'{word} is NOT matched by the regex \"{regex}\".')"
   ]
  },
  {
   "cell_type": "markdown",
   "metadata": {},
   "source": [
    " \n",
    "As was discussed above, character such as the period ('.'), the asterisk ('*') or the question mark ('?') have a special meaning in regular expressions. They function as quantifiers or as metacharacters.  In some cases, however, you may want to search for these literal characters themselves. If you need to extract the top level domain name from the URL of a website, for example, you need to specify that it is the part that follows the final dot. If you want to refer to the actual characters, this can be done in two ways. The first option is to place a back slash in front of this characters. This notation is known as “escaping” the character. The second option is to write the character in square brackets. \n"
   ]
  },
  {
   "cell_type": "markdown",
   "metadata": {},
   "source": [
    "## Anchors\n",
    "\n",
    "In regular expression, you can also make use of so-called anchors Anchors do not represent actual characters, but only locations within strings. \n",
    "\n",
    "\n",
    "<p>\n",
    "<table width=\"100%; \" style=\"text-align: left; font-size: 1.0em; \">\n",
    "    <tr style=\"text-align: left; \" >\n",
    "    <td width=\"15%\" style=\"text-align: center; \"><b>Symbol</b></td>    \n",
    "<td style=\"text-align: left; padding-right: 40%;\"><b>Description</b></td>    \n",
    "</tr> \n",
    "<tr style=\"text-align: left; \" >\n",
    "    <td width=\"15%\" style=\"text-align: center; \">\\b</td>    \n",
    "<td style=\"text-align: left; padding-right: 40%;\">A word boundary.</td>    </tr> \n",
    "    <tr style=\"text-align: left; \" >\n",
    "    <td width=\"15%\" style=\"text-align: center; \">^</td>    \n",
    "<td style=\"text-align: left; padding-right: 40%;\"> The beginning of a string.</td>    </tr> \n",
    "    <tr style=\"text-align: left; \" >\n",
    "    <td width=\"15%\" style=\"text-align: center; \">$</td>    \n",
    "<td style=\"text-align: left; padding-right: 40%;\">The end of a string.</td>    </tr> \n",
    "</table>\n",
    "</p>\n",
    "\n",
    "\n",
    "A word boundary is a location in which an alphanumeric character is placed next to a character which is not an alphanumeric character, such as punctuation, a space or a new line character. \n"
   ]
  },
  {
   "cell_type": "markdown",
   "metadata": {},
   "source": [
    "### Exercise 6.3\n",
    "\n",
    "From the list of codes that is given, select only those codes consisting of four digits, followed by two alphabetical characters, either in upper of lower case.  "
   ]
  },
  {
   "cell_type": "code",
   "execution_count": null,
   "metadata": {},
   "outputs": [],
   "source": [
    "codes = ['AA66CC','88773e','2251tb','78AB99','9fg','8756XX','3459BH','678hg','7645_W' , '35647AA' , '4571ack']\n",
    "         \n",
    "regex = r'---'\n",
    "\n",
    "for code in codes:\n",
    "    if re.search( regex , code ):\n",
    "        print(f'{code.upper()} is matched by the regex \"{regex}\".')\n",
    "    else:\n",
    "        print(f'{code} is NOT matched by the regex \"{regex}\".')"
   ]
  },
  {
   "cell_type": "markdown",
   "metadata": {},
   "source": [
    "## re.findall()\n",
    "\n",
    "The `re.search()` function, which was discussed above, only produces a Boolean value, depending on whether the regular expression indeed matches the string. The `findall()` method from the re module can be used to create a list containing all fragments from the string that match the regular expression. \n"
   ]
  },
  {
   "cell_type": "markdown",
   "metadata": {},
   "source": [
    "### Exercise 6.4\n",
    "\n",
    "The string named `words`, which is defined below, contains a number of words. Try to extract all the words that start with the characters in 'sun' (either with an upper or a lower case ‘s’), These characters may be followed by an arbitrary number of other characters. "
   ]
  },
  {
   "cell_type": "code",
   "execution_count": null,
   "metadata": {},
   "outputs": [],
   "source": [
    "words = '''sun sunbeams Saturday Sunday safety sanctuary sandy satisfy sunlight sunny scarcely shady shortly sky sunburnt specially spectacularly steadfastly surely surprisingly survey sundry sunflower sunk misunderstood asunder sunken sunrise sunset sunshine\n",
    "'''\n",
    "\n",
    "regex = r'---'\n",
    "    \n",
    "matches = re.findall( regex, words)\n",
    "for word in matches:\n",
    "    print(word)"
   ]
  },
  {
   "cell_type": "markdown",
   "metadata": {},
   "source": [
    "### Exercise 6.5\n",
    "\n",
    "Working with the same list of `words`, extract all the words that end in the character ‘y’.\n"
   ]
  },
  {
   "cell_type": "code",
   "execution_count": null,
   "metadata": {},
   "outputs": [],
   "source": [
    "regex = r'---'\n",
    "    \n",
    "matches = re.findall( regex, words)\n",
    "for word in matches:\n",
    "    print(word)"
   ]
  },
  {
   "cell_type": "markdown",
   "metadata": {},
   "source": [
    "### Exercise 6.6\n",
    "\n",
    "Working with the same `words` string, extract all the words in which the **second** character is an 'a'. \n"
   ]
  },
  {
   "cell_type": "code",
   "execution_count": null,
   "metadata": {},
   "outputs": [],
   "source": [
    "regex = r'---'\n",
    "    \n",
    "matches = re.findall( regex, words)\n",
    "for word in matches:\n",
    "    print(word)"
   ]
  },
  {
   "cell_type": "code",
   "execution_count": null,
   "metadata": {},
   "outputs": [],
   "source": []
  },
  {
   "cell_type": "markdown",
   "metadata": {},
   "source": [
    "Using the findall() function, it is also possible to extract a specific part of the full range of characters that is matched by the regular expression. If you place parentheses around a specific fragment of the regular expression, findall() will only return those characters found within this part. The code below contains an example. "
   ]
  },
  {
   "cell_type": "code",
   "execution_count": null,
   "metadata": {},
   "outputs": [],
   "source": [
    "import re\n",
    "\n",
    "sentence = \"\\\"Oh, good gracious me!\\\" said Lucy, suddenly collapsing and again seeing the whole of life in a new perspective.\"\n",
    "\n",
    "hits = re.findall( r'[\"](.+)[\"]' , sentence )\n",
    "\n",
    "for h in hits:\n",
    "    print( h )\n",
    "    ## prints Oh, good gracious me!\n"
   ]
  },
  {
   "cell_type": "markdown",
   "metadata": {},
   "source": [
    "### Exercise 6.7 \n",
    "\n",
    "The list named `bibliography` contains a number of references, formatted according to the APA citation style. For each title, try to extract the title and the year of publication.\n",
    "</div>"
   ]
  },
  {
   "cell_type": "code",
   "execution_count": null,
   "metadata": {},
   "outputs": [],
   "source": [
    "bibliography = [ 'Galey, A., and S. Ruecker. \"How a Prototype Argues.\" Literary and Linguistic Computing 25.4 (2010): 405–424.', \n",
    "                'Bauer, Jean. \"Who You Calling Untheoretical?\" Journal of Digital Humanities 1.1 (2011).', \n",
    "                'Eyers, Tom. \"The Perils of the ‘Digital Humanities’: New Positivisms and the Fate of Literary Theory.\" Postmodern Culture 23.2 (2013).', \n",
    "                'Anderson, Chris. \"The End of Theory: The Data Deluge Makes the Scientific Method Obsolete.\" Wired Magazine 16.07 (2008).', \n",
    "                'Ramsay, Stephen. \"In Praise of Pattern.\" TEXT Technology 14.2 (2005).', \n",
    "                'Rybicki, J., and M. Heydel. \"The Stylistics and Stylometry of Collaborative Translation: Woolf’s Night and Day in Polish.\" Literary and Linguistic Computing 28.4 (2013): 708–717.', \n",
    "                'Suzuki, T. et al. \"Co-Occurrence-Based Indicators for Authorship Analysis.\" Literary and Linguistic Computing 27.2 (2012): 197–214.', \n",
    "                'Pearl, L., and M. Steyvers. \"Detecting Authorship Deception: A Supervised Machine Learning Approach Using Author Writeprints.\" Literary and Linguistic Computing 27.2 (2012): 183–196.']\n"
   ]
  },
  {
   "cell_type": "markdown",
   "metadata": {},
   "source": [
    "\n",
    "## Case insensitivity\n",
    "\n",
    "If you add the text “re.IGNORECASE” as the third parameter of the search() function, the search will take place in a case-insensitive manner. For examples of case-insensitive searches using word boundaries, see the code below.\n"
   ]
  },
  {
   "cell_type": "code",
   "execution_count": null,
   "metadata": {},
   "outputs": [],
   "source": [
    "import re\n",
    "\n",
    "line = \"Doubting, dreaming dreams no mortal ever dared to dream before\"\n",
    "\n",
    "hits = re.findall( r'\\bd[a-z]*\\b' , line , re.IGNORECASE )\n",
    "for h in hits:\n",
    "    print(h)\n",
    "\n",
    "# Matches all words starting with 'd', including 'Doubting' which starts \n",
    "# with upper case 'd'\n",
    "\n"
   ]
  },
  {
   "cell_type": "markdown",
   "metadata": {},
   "source": [
    "\n",
    "## Finding and replacing text\n",
    "\n",
    "In Python, regular expressions can also be applied usefully in ‘find and replace’ operations. Such operations can be performed using the `sub()` function from the `re` module. The `sub()` method demands three parameters: (1) a regular expression, (2) a replacement string, and (3) the string containing text which needs to be replaced. \n",
    "\n",
    "If matches can be found for the regular expression which is mentioned as the first parameter, these matches will all be replaced with the string which is given as the second parameter. The function of `re.sub` is comparable to that of the `replace()` function, discussed in the section on 'Working with Strings'.\n"
   ]
  },
  {
   "cell_type": "code",
   "execution_count": null,
   "metadata": {},
   "outputs": [],
   "source": [
    "import re\n",
    "\n",
    "name1 = 'data carpentry'\n",
    "name2 = re.sub( 'data' , 'software' , name1 )\n",
    "print(name2)\n",
    "## prints 'software carpentry'"
   ]
  },
  {
   "cell_type": "markdown",
   "metadata": {},
   "source": [
    "You can also remove unwanted characters using `re.sub` by replacing these characters with an empty string. "
   ]
  },
  {
   "cell_type": "code",
   "execution_count": null,
   "metadata": {},
   "outputs": [],
   "source": [
    "import re\n",
    "\n",
    "sentence = \"This,, ..sentence-. .,contains. .strange. !=puncuation\"\n",
    "\n",
    "sentence = re.sub( r'[.,!=-]' , '' , sentence )\n",
    "\n",
    "print(sentence)\n",
    "## This code removes all punctuation"
   ]
  },
  {
   "cell_type": "markdown",
   "metadata": {},
   "source": [
    "The process of learning to work with regular expressions may imply a steep learning curve. You need to develp a good understanding of all the characters that can be used to compose search patterns, next to the ability to use all of these characters and symbols in combination. \n",
    "\n",
    "If you want to learn more about regular expressions, you can study the very elaborate and accessible turorials on this topic on [The Programming Historian](https://programminghistorian.org/en/lessons/understanding-regular-expressions) or on the website of [Library Carpentry](https://librarycarpentry.org/lc-data-intro/01-regular-expressions/).\n",
    "\n",
    "On Dataquest.io, you can find a helpful [Regular Expressions Cheat Sheet](https://www.dataquest.io/blog/regex-cheatsheet/) (also available as a [PDF document](https://www.dataquest.io/wp-content/uploads/2019/03/python-regular-expressions-cheat-sheet.pdf)) \n"
   ]
  }
 ],
 "metadata": {
  "kernelspec": {
   "display_name": "Python 3 (ipykernel)",
   "language": "python",
   "name": "python3"
  },
  "language_info": {
   "codemirror_mode": {
    "name": "ipython",
    "version": 3
   },
   "file_extension": ".py",
   "mimetype": "text/x-python",
   "name": "python",
   "nbconvert_exporter": "python",
   "pygments_lexer": "ipython3",
   "version": "3.7.9"
  }
 },
 "nbformat": 4,
 "nbformat_minor": 2
}
