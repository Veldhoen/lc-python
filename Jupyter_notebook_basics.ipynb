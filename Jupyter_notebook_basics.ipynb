{
 "cells": [
  {
   "cell_type": "markdown",
   "metadata": {},
   "source": [
    "# Jupyter Notebook basics\n",
    "\n"
   ]
  },
  {
   "cell_type": "markdown",
   "metadata": {},
   "source": [
    "Jupyter Notebook is an aplicaton which enables you to create documents containing both code and explanations of the code in understandable language. Such documents are called 'notebooks'. The code that you include in these notebooks can also be run (or executed) directly. \n",
    "\n",
    "Jupyter notebook enables you to share your code and the documentation of this code in a very effective way. \n",
    "\n",
    "## Cells\n",
    "\n",
    "A notebook is essentially a collection of cells. We shall be working with two types of cells. \n",
    "\n",
    "* A **Code cell** contains code to be executed using the so-called Python kernel. When you run a cell, the output will be displayed directly below the cell. \n",
    "* A **Markdown cell** contains rich text. The text can be formatted using a langauge named [Markdown](https://github.com/adam-p/markdown-here/wiki/Markdown-Cheatsheet). \n"
   ]
  },
  {
   "cell_type": "markdown",
   "metadata": {},
   "source": [
    "To view the *markdown* codes, you need to **double click on the cell** that contains this text. You can try this with this current cell. \n",
    "\n",
    "The cell below contains code. Double clicking on this cell and try to edit the code. "
   ]
  },
  {
   "cell_type": "code",
   "execution_count": 2,
   "metadata": {},
   "outputs": [
    {
     "name": "stdout",
     "output_type": "stream",
     "text": [
      "Hello world!\n"
     ]
    }
   ],
   "source": [
    "# This cell contains code\n",
    "print('Hello world!')"
   ]
  },
  {
   "cell_type": "markdown",
   "metadata": {},
   "source": [
    "Cells can be run by placing the cursor inside the cell and by clicking on [Shift] + [Enter]. Alternatively, you can click on '`Run`' in the menu at the top of the screen. Try to experiment with this. Can you change the output of the `print()` function, for instance? \n",
    "\n",
    "Code cells always have the characters `In [ ]:` to their left. While the kernel is still active (i.e. when it is busy running the code), you will see an asterisk ('`*`') in between the two square brackets. When it has finished running, Jupyter Notebook will display a number. The program keeps track of the order in which you run all the cells. \n"
   ]
  },
  {
   "cell_type": "markdown",
   "metadata": {},
   "source": [
    "You can also add new cells by choosing `Insert` > `Insert Cell Above` or `Insert Cell Below` from the menu. New cells will be code cells by default. If you want to change the newly created cell into a Markdown cell, you can use the drowdown menu at the top of your screen, containing values such as `Code` and `Markdown`.\n",
    "\n",
    "To delete a cell, you can choose `Edit` > `Delete cells`. "
   ]
  },
  {
   "cell_type": "code",
   "execution_count": null,
   "metadata": {},
   "outputs": [],
   "source": [
    "# Click on this cell to insert a new cell below it. Next, try to to delete this cell"
   ]
  },
  {
   "cell_type": "code",
   "execution_count": null,
   "metadata": {},
   "outputs": [],
   "source": []
  },
  {
   "cell_type": "markdown",
   "metadata": {},
   "source": [
    "Finally, try to run the cell below. "
   ]
  },
  {
   "cell_type": "code",
   "execution_count": 3,
   "metadata": {},
   "outputs": [
    {
     "name": "stdout",
     "output_type": "stream",
     "text": [
      "The Zen of Python, by Tim Peters\n",
      "\n",
      "Beautiful is better than ugly.\n",
      "Explicit is better than implicit.\n",
      "Simple is better than complex.\n",
      "Complex is better than complicated.\n",
      "Flat is better than nested.\n",
      "Sparse is better than dense.\n",
      "Readability counts.\n",
      "Special cases aren't special enough to break the rules.\n",
      "Although practicality beats purity.\n",
      "Errors should never pass silently.\n",
      "Unless explicitly silenced.\n",
      "In the face of ambiguity, refuse the temptation to guess.\n",
      "There should be one-- and preferably only one --obvious way to do it.\n",
      "Although that way may not be obvious at first unless you're Dutch.\n",
      "Now is better than never.\n",
      "Although never is often better than *right* now.\n",
      "If the implementation is hard to explain, it's a bad idea.\n",
      "If the implementation is easy to explain, it may be a good idea.\n",
      "Namespaces are one honking great idea -- let's do more of those!\n"
     ]
    }
   ],
   "source": [
    "import this"
   ]
  },
  {
   "cell_type": "code",
   "execution_count": null,
   "metadata": {},
   "outputs": [],
   "source": []
  }
 ],
 "metadata": {
  "kernelspec": {
   "display_name": "Python 3 (ipykernel)",
   "language": "python",
   "name": "python3"
  },
  "language_info": {
   "codemirror_mode": {
    "name": "ipython",
    "version": 3
   },
   "file_extension": ".py",
   "mimetype": "text/x-python",
   "name": "python",
   "nbconvert_exporter": "python",
   "pygments_lexer": "ipython3",
   "version": "3.7.9"
  }
 },
 "nbformat": 4,
 "nbformat_minor": 4
}
