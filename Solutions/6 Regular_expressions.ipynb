{
 "cells": [
  {
   "cell_type": "markdown",
   "metadata": {},
   "source": [
    "\n",
    "\n",
    "# 6. Regular Expressions\n",
    "\n",
    "\n"
   ]
  },
  {
   "cell_type": "markdown",
   "metadata": {},
   "source": [
    "### Exercise 6.1\n",
    "\n",
    "The list named `words` in the cell below contains a number of spelling variants of the verb 'to digitise'. In some of the variants, the first character is capitalized, while in other variants, all the characters are in lower case. Some variants are in the American spelling and and other variants use the British spelling. Try to write a regular expression which matches all of these variants.  "
   ]
  },
  {
   "cell_type": "code",
   "execution_count": null,
   "metadata": {},
   "outputs": [],
   "source": [
    "import re\n",
    "\n",
    "words = ['digitise' , 'Digitise' , 'digitize', 'Digitize']\n",
    "\n",
    "## Give the regular expression as value of the regex variable\n",
    "regex = '[Dd]igiti[sz]e'\n",
    "\n",
    "for word in words:\n",
    "    if re.search( regex , word ):\n",
    "        print(f'{word} is matched by the regex {regex}.')\n",
    "    else:\n",
    "        print(f'{word} is NOT matched by the regex {regex}.')"
   ]
  },
  {
   "cell_type": "markdown",
   "metadata": {},
   "source": [
    "## Exercise 6.2\n",
    "\n",
    "The list of words below contains words which start with 'f' and end in 'l'. In all of these words, there are either two or three other characters in between the first and the final character. Try to write a regular expression which matches all of these words. "
   ]
  },
  {
   "cell_type": "code",
   "execution_count": null,
   "metadata": {},
   "outputs": [],
   "source": [
    "words = ['fail','FOOL','feel', 'fall', 'FOIL', 'fuel', 'Furl' , 'final' , 'focal', 'Frail' , 'FATAL' ]\n",
    "         \n",
    "## Give the regular expression as value of the regex variable\n",
    "regex = r'[Ff]\\w{2,3}[Ll]'\n",
    "\n",
    "for word in words:\n",
    "    if re.search( regex , word ):\n",
    "        print(f'{word} is matched by the regex \"{regex}\".')\n",
    "    else:\n",
    "        print(f'{word} is NOT matched by the regex \"{regex}\".')"
   ]
  },
  {
   "cell_type": "markdown",
   "metadata": {},
   "source": [
    "## Exercise 6.3\n",
    "\n",
    "From the list of codes that is given, select only those codes consisting of four digits, followed by two alphabetical characters, either in upper of lower case.  \n",
    "Make use of '^' at the beginning of a string and or '$' at the end of the string to make sure that you match the full code!"
   ]
  },
  {
   "cell_type": "code",
   "execution_count": null,
   "metadata": {},
   "outputs": [],
   "source": [
    "codes = ['AA66CC','2251tb','78AB99','9fg','8756XX','3459BH','678hg','7645_W' , '35647AA' ,'88773e','4571ack']\n",
    "         \n",
    "regex = r'^\\d{4}[A-Za-z]{2}$'\n",
    "\n",
    "for code in codes:\n",
    "    if re.search( regex , code ):\n",
    "        print(f'{code.upper()} is matched by the regex \"{regex}\".')\n",
    "    else:\n",
    "        print(f'{code} is NOT matched by the regex \"{regex}\".')"
   ]
  },
  {
   "cell_type": "markdown",
   "metadata": {},
   "source": [
    "## re.findall()\n",
    "\n",
    "The `re.search()` function, which was discussed above, only produces a Boolean value, depending on whether the regular expression indeed matches the string. The `findall()` method from the re module can be used to create a list containing all fragments from the string that match the regular expression. \n"
   ]
  },
  {
   "cell_type": "markdown",
   "metadata": {},
   "source": [
    "## Exercise 6.4\n",
    "\n",
    "The string named `words`, which is defined below, contains a number of words. Try to extract all the words that start with the characters in 'sun' (either with an upper or a lower case ‘s’), These characters may be followed by an arbitrary number of other characters. "
   ]
  },
  {
   "cell_type": "code",
   "execution_count": null,
   "metadata": {},
   "outputs": [],
   "source": [
    "words = '''sun sunbeams Saturday Sunday safety sanctuary sandy satisfy sunlight sunny scarcely shady shortly sky sunburnt specially spectacularly steadfastly surely surprisingly survey sundry sunflower sunk misunderstood asunder sunken sunrise sunset sunshine\n",
    "'''\n",
    "\n",
    "regex = r'\\b[Ss]un\\w*\\b'\n",
    "    \n",
    "matches = re.findall( regex, words)\n",
    "for word in matches:\n",
    "    print(word)"
   ]
  },
  {
   "cell_type": "markdown",
   "metadata": {},
   "source": [
    "## Exercise 6.5\n",
    "\n",
    "Working with the same list of `words`, extract all the words that end in the character ‘y’.\n"
   ]
  },
  {
   "cell_type": "code",
   "execution_count": null,
   "metadata": {},
   "outputs": [],
   "source": [
    "regex = r'\\b\\w+y\\b'\n",
    "    \n",
    "matches = re.findall( regex, words)\n",
    "for word in matches:\n",
    "    print(word)"
   ]
  },
  {
   "cell_type": "markdown",
   "metadata": {},
   "source": [
    "## Exercise 6.6\n",
    "\n",
    "Working with the same `words` string, extract all the words in which the **second** character is an 'a'. \n"
   ]
  },
  {
   "cell_type": "code",
   "execution_count": null,
   "metadata": {},
   "outputs": [],
   "source": [
    "regex = r'\\b\\wa\\w+\\b'\n",
    "    \n",
    "matches = re.findall( regex, words)\n",
    "for word in matches:\n",
    "    print(word)"
   ]
  },
  {
   "cell_type": "markdown",
   "metadata": {},
   "source": [
    "## Exercise 6.7 \n",
    "\n",
    "The list named `bibliography` contains a number of references, formatted according to the APA citation style. For each title, try to extract the title and the year of publication.\n",
    "</div>"
   ]
  },
  {
   "cell_type": "code",
   "execution_count": null,
   "metadata": {},
   "outputs": [],
   "source": [
    "bibliography = [ 'Galey, A., and S. Ruecker. \"How a Prototype Argues.\" Literary and Linguistic Computing 25.4 (2010): 405–424.', \n",
    "                'Bauer, Jean. \"Who You Calling Untheoretical?\" Journal of Digital Humanities 1.1 (2011).', \n",
    "                'Eyers, Tom. \"The Perils of the ‘Digital Humanities’: New Positivisms and the Fate of Literary Theory.\" Postmodern Culture 23.2 (2013).', \n",
    "                'Anderson, Chris. \"The End of Theory: The Data Deluge Makes the Scientific Method Obsolete.\" Wired Magazine 16.07 (2008).', \n",
    "                'Ramsay, Stephen. \"In Praise of Pattern.\" TEXT Technology 14.2 (2005).', \n",
    "                'Rybicki, J., and M. Heydel. \"The Stylistics and Stylometry of Collaborative Translation: Woolf’s Night and Day in Polish.\" Literary and Linguistic Computing 28.4 (2013): 708–717.', \n",
    "                'Suzuki, T. et al. \"Co-Occurrence-Based Indicators for Authorship Analysis.\" Literary and Linguistic Computing 27.2 (2012): 197–214.', \n",
    "                'Pearl, L., and M. Steyvers. \"Detecting Authorship Deception: A Supervised Machine Learning Approach Using Author Writeprints.\" Literary and Linguistic Computing 27.2 (2012): 183–196.']\n",
    "\n",
    "for publication in bibliography:\n",
    "    title = re.findall(r'\\\"(.+)\\\"', publication)[0]\n",
    "    print( f'Title: {title} ')\n",
    "    \n",
    "    year = re.findall(r'[(](.+)[)]', publication)[0]\n",
    "    print( f'Year: {year} ')\n",
    "\n"
   ]
  }
 ],
 "metadata": {
  "kernelspec": {
   "display_name": "Python 3 (ipykernel)",
   "language": "python",
   "name": "python3"
  },
  "language_info": {
   "codemirror_mode": {
    "name": "ipython",
    "version": 3
   },
   "file_extension": ".py",
   "mimetype": "text/x-python",
   "name": "python",
   "nbconvert_exporter": "python",
   "pygments_lexer": "ipython3",
   "version": "3.7.9"
  }
 },
 "nbformat": 4,
 "nbformat_minor": 2
}
