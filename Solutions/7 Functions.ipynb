{
 "cells": [
  {
   "cell_type": "markdown",
   "metadata": {},
   "source": [
    "# 7. Functions\n",
    "\n",
    "\n",
    "So far, we have mostly focused on small pieces of code that perform specific tasks. In a program, the same types of tasks may of course be performed several times in different sections of the code. In such situations, it can be efficient to reuse particular pieces of code.\n",
    "\n",
    "Imagine, for example, that you want to write a program in Python which can calculate the final grades earned by students who have followed a certain course. Such grades are normally calculated using a fixed formula (e.g. a mid-term assignment which counts for 40% and a final exam which counts for 60%). To calculate the final grades, this formula needs to be applied repeatedly with different values. In such a situation, it would be quite inefficient if you simply repeated the code that is needed for every single student. Fortunately, we can reuse fragments of code by defining them as functions.\n",
    "\n",
    "A *function* is essentially a set of statements which can be addressed collectively via a single name. A function may demand some *input*. The values that need to be provided as input are referred to as *parameters*. The function may also produce some *output*. \n",
    "\n",
    "## Built-in functions\n",
    "\n",
    "Up to this point, we have already encountered some of Python's built-in functions: the functions that Python provides 'out of the box'. The list below gives a number of examples.\n",
    "\n",
    "* `print()` takes one or more values and 'writes' these to the screen.\n",
    "* `len()` takes a string, list or dictionary and returns its length (i.e. the number of characters or items).\n",
    "* `float()` takes a numerical value (e.g. an integer) as input, and converts it into an integer. \n",
    "* `dict()` takes no inputs and returns an empty dictionary.\n",
    "* `sorted()` takes a list and returns a sorted copy of that list.\n",
    "\n",
    "You can find more information about these built-in functions in [the Python documentation](https://docs.python.org/3/library/functions.html). If you come across a function that you do not understand, you can always ask for more infation using the built-in `help()` function. "
   ]
  },
  {
   "cell_type": "code",
   "execution_count": null,
   "metadata": {},
   "outputs": [],
   "source": [
    "help(print)"
   ]
  },
  {
   "cell_type": "markdown",
   "metadata": {},
   "source": [
    "## Defining functions\n",
    "\n",
    "Next to working with in-built functions, it is also possible to write your own functions. Working with functions can often be very effective. It enables you to decompose specific problem into smaller sub-problems and into units which can be reused as often as needed. Follow the steps below to define a new function. \n",
    "\n",
    "* You begin the definition of the function with `def`.\n",
    "* After `def`, you firstly provide the name of the function. Function names need to follow the same rules as variable names. \n",
    "* The name of the function is followed by a set of parentheses. Within these parentheses, you mention the arguments: the values that the function works with. If there are two or more parameters, they need to be separated by commas. You always need to type in the parentheses, even if the function does not demand any parameters. In this latter case, you simply provide an empty set of parentheses. \n",
    "* Give a colon after the closing bracket. \n",
    "* Following the line that starts with `def`, you can provide an indented block of code containing all the actual statements that make up the function. \n",
    "* If the function also produces *output*, this final result needs to be given after the keyword `return`. \n",
    "\n",
    "When you choose a name, make sure to make it descriptive and do not use an existing one or reserved keyword.\n",
    "The Python community has [guidelines for naming functions][pep8-func]. You are advised to come up with function names that are \"lowercase,\n",
    "with words separated by underscores to improve readability.\"\n",
    "\n",
    "[pep8-func]: https://peps.python.org/pep-0008/#function-and-variable-names\n",
    "\n",
    "The cell below contains an example. The function that is programmed calculates the area of a rectangle, by multiplying the width and the height. "
   ]
  },
  {
   "cell_type": "code",
   "execution_count": null,
   "metadata": {},
   "outputs": [],
   "source": [
    "def calculate_area(width,height):\n",
    "    area = width * height\n",
    "    return area"
   ]
  },
  {
   "cell_type": "markdown",
   "metadata": {},
   "source": [
    "When you define a function, this not immediately run the code. The cell above does not produce any output. Defining a function is similar to defining a variable. To run the code, you need to call the function, using actual values for the parameters that are required."
   ]
  },
  {
   "cell_type": "code",
   "execution_count": null,
   "metadata": {},
   "outputs": [],
   "source": [
    "print( calculate_area(5,6) )"
   ]
  },
  {
   "cell_type": "markdown",
   "metadata": {},
   "source": [
    "Once the function has been defined, it can be called, or invoked, in other locations in your program. When you call the function, the parameters named `width` and `height` will both be assigned values. The calculation inside the body of the function then operates on the specific values that you supply. The `print()` statement in the cell above ultimately outputs the result of the calculation. \n",
    "\n",
    "Remember that a function always returns something. If a function does not include a `return` statement, the function automatically returns the value `None`."
   ]
  },
  {
   "cell_type": "markdown",
   "metadata": {},
   "source": [
    "### Exercise 7.1. \n",
    "\n",
    "Write a function which can convert a given temperature in degrees Celcius into the equivalent in Fahrenheit. Use the following formula: F = 1.8 * C + 32.\n",
    "\n",
    "Once the function is ready, test it with a number of values. 20 degrees Celcius ought to be converted into 68 degrees Fahrenheit, and 37 degrees Celcius should equal 98.6 degrees Fahrenheit. "
   ]
  },
  {
   "cell_type": "code",
   "execution_count": null,
   "metadata": {},
   "outputs": [],
   "source": []
  },
  {
   "cell_type": "markdown",
   "metadata": {},
   "source": [
    "## Optional parameters\n",
    "\n",
    "Parameters can be made optional by specifying default values in the function definition. The function below can be used to shorten a string. Such a function can be useful if you want to display shortened titles in a library catalogue. By default, the function selects the first twelve characters only. If a different length is needed, the required number of characters can be specified by the second parameter."
   ]
  },
  {
   "cell_type": "code",
   "execution_count": 1,
   "metadata": {},
   "outputs": [
    {
     "name": "stdout",
     "output_type": "stream",
     "text": [
      "Frankenstein [...]\n",
      "The Secret Agent [...]\n"
     ]
    }
   ],
   "source": [
    "def shorten_string( text , max_characters = 12 ):\n",
    "    return text[:max_characters] + ' [...]'\n",
    "\n",
    "print(shorten_string('Frankenstein, or, The Modern Prometheus'))\n",
    "print(shorten_string('The Secret Agent: A Simple Tale' , 16))"
   ]
  },
  {
   "cell_type": "markdown",
   "metadata": {},
   "source": [
    "The in-built function `round()` similarly works with optional parameters. The first parameter is the floating point number that needs to be rounded off. The second parameter is the number of digits you would like to see following the decimal point. The default value for this second parameter is the zero. If you supply only one parameter, the number is rounded off to a number with zero decimals, or, in other words, to an integer.     "
   ]
  },
  {
   "cell_type": "code",
   "execution_count": null,
   "metadata": {},
   "outputs": [],
   "source": [
    "float_number = 4.55892\n",
    "\n",
    "# Keep 2 decimals\n",
    "print( round(float_number, 2) )\n",
    "\n",
    "# Round to zero decimals and return an integer\n",
    "print( round(float_number) )"
   ]
  },
  {
   "cell_type": "markdown",
   "metadata": {},
   "source": [
    "The values that are given in parentheses in a function definition are referred to as parameters, as we saw. Strictoy speaking, the values that are supplied by users who call the function are referred to as arguments. "
   ]
  },
  {
   "cell_type": "markdown",
   "metadata": {},
   "source": [
    "### Exercise 7.2.\n",
    "\n",
    "In a given university course, the final grade is determined by grade for essay and by the grade for a presentation. The presentation counts for 30% and the essay for 70%.\n",
    "\n",
    "Write two functions:\n",
    "\n",
    "1. `calculate_mark` should calculate the final grade based on a set of partial grades according to the given formula. Grades must be rounded to integers. 5.4, for example, becomes 5 and 6.6 becomes 7. \n",
    "2. `is_pass` should determine whether a given grade is at a pass level (i.e. equal to or higher than 6). This function must return a string value, 'pass' or 'fail'."
   ]
  },
  {
   "cell_type": "code",
   "execution_count": null,
   "metadata": {},
   "outputs": [],
   "source": [
    "# Function calculate_mark determines the final mark\n",
    "\n",
    "\n",
    "# Function is_pass determines 'Pass' or 'Fail'\n"
   ]
  },
  {
   "cell_type": "code",
   "execution_count": null,
   "metadata": {},
   "outputs": [],
   "source": [
    "# Let's try them:\n",
    "essay1 = 7.0\n",
    "presentation1 = 8.5\n",
    "final1 = calculate_mark(essay1, presentation1)\n",
    "# We expect the grade 7 (pass)\n",
    "print( f\"final grade: {final1} ({is_pass(final1)})\" )\n",
    "\n",
    "essay2 = 4.5\n",
    "presentation2 = 5.5\n",
    "final2 = calculate_mark(essay2, presentation2)\n",
    "# We expect the grade 5 (fail)\n",
    "print( f\"final grade: {final2} ({is_pass(final2)})\" )"
   ]
  },
  {
   "cell_type": "markdown",
   "metadata": {},
   "source": [
    "### Exercise 7.3.\n",
    "\n",
    "Write a function which takes a Python list as a parameter. This list should contain numbers. The function should return the average value of the numbers in the list. Name the function `calculate_average()`. "
   ]
  },
  {
   "cell_type": "code",
   "execution_count": null,
   "metadata": {},
   "outputs": [],
   "source": []
  }
 ],
 "metadata": {
  "kernelspec": {
   "display_name": "Python 3 (ipykernel)",
   "language": "python",
   "name": "python3"
  },
  "language_info": {
   "codemirror_mode": {
    "name": "ipython",
    "version": 3
   },
   "file_extension": ".py",
   "mimetype": "text/x-python",
   "name": "python",
   "nbconvert_exporter": "python",
   "pygments_lexer": "ipython3",
   "version": "3.7.9"
  },
  "vscode": {
   "interpreter": {
    "hash": "b0fa6594d8f4cbf19f97940f81e996739fb7646882a419484c72d19e05852a7e"
   }
  }
 },
 "nbformat": 4,
 "nbformat_minor": 2
}
